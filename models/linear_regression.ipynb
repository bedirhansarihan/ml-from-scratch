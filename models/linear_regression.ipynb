{
 "cells": [
  {
   "cell_type": "code",
   "id": "initial_id",
   "metadata": {
    "collapsed": true,
    "ExecuteTime": {
     "end_time": "2024-08-21T08:04:37.567082Z",
     "start_time": "2024-08-21T08:04:36.452170Z"
    }
   },
   "source": [
    "import numpy as np\n",
    "import pandas as pd\n",
    "import matplotlib.pyplot as plt\n"
   ],
   "outputs": [],
   "execution_count": 1
  },
  {
   "metadata": {},
   "cell_type": "markdown",
   "source": [
    "## Implementing Vectorized Linear Regression from Scratch\n",
    "\n",
    "In this notebook, we will implement a vectorized version of the linear regression model from scratch. To facilitate this, it's important to understand the dimensions of the variables involved:\n",
    "\n",
    "### 1. Feature Matrix (`X`)\n",
    "- **Shape**: `(number_of_features, number_of_examples)`\n",
    "- **Description**: This matrix contains the input features of the dataset.\n",
    "\n",
    "### 2. Target Vector (`y`)\n",
    "- **Shape**: `(1, number_of_examples)`\n",
    "- **Description**: This vector contains the target values for each training example.\n",
    "\n",
    "### 3. Weights (`w`)\n",
    "- **Shape**: `(number_of_features, 1)`\n",
    "- **Description**: This vector contains the weights associated with each feature.\n",
    "\n",
    "### 4. Bias (`b`)\n",
    "- **Shape**: Scalar\n",
    "- **Description**: The bias term is a scalar that is added to the weighted sum of the input features to adjust the output.\n"
   ],
   "id": "8cdd5c18e726479f"
  },
  {
   "metadata": {
    "ExecuteTime": {
     "end_time": "2024-08-21T08:05:00.088099Z",
     "start_time": "2024-08-21T08:05:00.080964Z"
    }
   },
   "cell_type": "code",
   "source": [
    "# practise dataset\n",
    "\n",
    "def load_data(zero_rank=False, transformed=False):\n",
    "    data = np.loadtxt(r'.\\data\\ex1data1.txt', delimiter=',')\n",
    "    X = data[:,0]\n",
    "    y = data[:,1]\n",
    "    \n",
    "    if not zero_rank:\n",
    "        X = X.reshape(-1, 1)\n",
    "        y = y.reshape(-1, 1)\n",
    "    \n",
    "    if transformed:\n",
    "        X = X.T\n",
    "        y = y.T\n",
    "    return X, y\n"
   ],
   "id": "9c3bbe14e6837885",
   "outputs": [],
   "execution_count": 7
  },
  {
   "metadata": {
    "ExecuteTime": {
     "end_time": "2024-08-21T08:05:00.475332Z",
     "start_time": "2024-08-21T08:05:00.469469Z"
    }
   },
   "cell_type": "code",
   "source": [
    "def initialize_parameter_with_zeros(X):\n",
    "    \"\"\"\n",
    "    \n",
    "    :param X shape: (nx, number_of_features): \n",
    "    :return: \n",
    "    \"\"\"\n",
    "    n, m = X.shape\n",
    "    \n",
    "    w = np.zeros((n,1))\n",
    "    b = 0.0\n",
    "    return w, b\n"
   ],
   "id": "de0975cf370c50a8",
   "outputs": [],
   "execution_count": 8
  },
  {
   "metadata": {
    "ExecuteTime": {
     "end_time": "2024-08-21T08:05:01.201657Z",
     "start_time": "2024-08-21T08:05:01.192988Z"
    }
   },
   "cell_type": "code",
   "source": [
    "# initialize_parameter_with_zeros_test\n",
    "X, y = load_data(transformed=True)\n",
    "w, b = initialize_parameter_with_zeros(X)\n",
    "print('w:', w)\n",
    "print('b:', b)"
   ],
   "id": "ee6cf870562cc506",
   "outputs": [
    {
     "name": "stdout",
     "output_type": "stream",
     "text": [
      "w: [[0.]]\n",
      "b: 0.0\n"
     ]
    }
   ],
   "execution_count": 9
  },
  {
   "metadata": {
    "ExecuteTime": {
     "end_time": "2024-08-21T08:05:02.551465Z",
     "start_time": "2024-08-21T08:05:02.546406Z"
    }
   },
   "cell_type": "code",
   "source": [
    "def linear_function(X, w, b):\n",
    "    \"\"\"\n",
    "    :param X: shape (number_of_features, number_of_examples) \n",
    "    :param w: shape( number_of_features, 1) \n",
    "    :param b: scalar\n",
    "    :return:  shape (number_of_features, number_of_examples) \n",
    "    \"\"\"\n",
    "\n",
    "    Z = np.dot(w.T, X ) + b\n",
    "    A = Z       \n",
    "    return A"
   ],
   "id": "aafe38a242a4e143",
   "outputs": [],
   "execution_count": 10
  },
  {
   "metadata": {
    "ExecuteTime": {
     "end_time": "2024-08-21T08:05:03.031958Z",
     "start_time": "2024-08-21T08:05:03.025692Z"
    }
   },
   "cell_type": "code",
   "source": [
    "def compute_cost(X, Y, w, b):\n",
    "    \"\"\"\n",
    "    :param X: shape (number_of_features, number_of_examples) \n",
    "    :param Y: shape (1, number_of_examples)\n",
    "    :param w: shape( number_of_features, 1) \n",
    "    :param b: scalar\n",
    "    :return scalar: \n",
    "    \"\"\"\n",
    "    m = X.shape[1]\n",
    "    Y_hat = linear_function(X, w, b)\n",
    "    error = Y_hat - Y\n",
    "    cost = np.sum(error ** 2) / (2 * m)\n",
    "    \n",
    "    return cost"
   ],
   "id": "3c190aa3a9fed8c8",
   "outputs": [],
   "execution_count": 11
  },
  {
   "metadata": {
    "ExecuteTime": {
     "end_time": "2024-08-21T08:05:03.547765Z",
     "start_time": "2024-08-21T08:05:03.539794Z"
    }
   },
   "cell_type": "code",
   "source": [
    "# compute_cost_test\n",
    "X,y = load_data(transformed=True)\n",
    "init_w, init_b = initialize_parameter_with_zeros(X)\n",
    "cost = compute_cost(X, y, init_w, init_b)\n",
    "print(f'Cost at initial w (zero): {cost:.3f}')\n",
    "    \n"
   ],
   "id": "d54794b95f4fe639",
   "outputs": [
    {
     "name": "stdout",
     "output_type": "stream",
     "text": [
      "Cost at initial w (zero): 32.073\n"
     ]
    }
   ],
   "execution_count": 12
  },
  {
   "metadata": {
    "ExecuteTime": {
     "end_time": "2024-08-21T08:05:03.939706Z",
     "start_time": "2024-08-21T08:05:03.933679Z"
    }
   },
   "cell_type": "code",
   "source": [
    "def compute_gradient(X, Y, w, b):\n",
    "    \"\"\"\n",
    "    :param X: shape (number_of_features, number_of_examples) \n",
    "    :param Y: shape (1, number_of_examples)\n",
    "    :param w: shape( number_of_features, 1) \n",
    "    :param b: scalar\n",
    "    :return tuple (number_of_features, 1), scalar: \n",
    "\n",
    "    \"\"\"\n",
    "    m = X.shape[1]  # number of examples\n",
    "    \n",
    "    Y_hat = linear_function(X, w, b)\n",
    "\n",
    "    error = Y_hat - Y\n",
    "\n",
    "    db = np.sum(error) / m\n",
    "    dw = np.dot(X, error.T) / m\n",
    "    \n",
    "    return dw, db\n",
    " "
   ],
   "id": "fbd73904067ed2b",
   "outputs": [],
   "execution_count": 13
  },
  {
   "metadata": {
    "ExecuteTime": {
     "end_time": "2024-08-21T08:05:04.423075Z",
     "start_time": "2024-08-21T08:05:04.414721Z"
    }
   },
   "cell_type": "code",
   "source": [
    "# compute_gradient_test\n",
    "X, y = load_data(transformed=True)\n",
    "init_w = np.array([[0.2]])\n",
    "init_b = 0.2\n",
    "dj_db, dj_dw  = compute_gradient(X, y, init_w, init_b)\n",
    "\n",
    "print('dj_db at test w and b:', dj_db)\n",
    "print('dj_dw at test w and b:', dj_dw)"
   ],
   "id": "d9ee22aff5c93005",
   "outputs": [
    {
     "name": "stdout",
     "output_type": "stream",
     "text": [
      "dj_db at test w and b: [[-47.41610118]]\n",
      "dj_dw at test w and b: -4.007175051546392\n"
     ]
    }
   ],
   "execution_count": 14
  },
  {
   "metadata": {
    "ExecuteTime": {
     "end_time": "2024-08-21T08:05:05.075645Z",
     "start_time": "2024-08-21T08:05:05.068933Z"
    }
   },
   "cell_type": "code",
   "source": [
    "def gradient_descent(X, Y, w, b, learning_rate=0.01, num_iterations=10000):\n",
    "    costs = []\n",
    "        \n",
    "    for i in range(num_iterations):\n",
    "        \n",
    "        dw, db = compute_gradient(X, Y, w, b)\n",
    "        \n",
    "        w = w - learning_rate * dw\n",
    "        b = b - learning_rate * db\n",
    "        \n",
    "        cost = compute_cost(X, Y, w, b)\n",
    "        costs.append(cost)\n",
    "        \n",
    "        if i % 1000 == 0:\n",
    "            print(f\"Iteration {i}: Cost = {cost}\")\n",
    "    print(f\"Final Cost at iteration {num_iterations}:{float(costs[-1]):8.2f}\")\n",
    "    return w, b"
   ],
   "id": "3bbd97420832357c",
   "outputs": [],
   "execution_count": 15
  },
  {
   "metadata": {
    "ExecuteTime": {
     "end_time": "2024-08-21T08:05:05.947300Z",
     "start_time": "2024-08-21T08:05:05.701723Z"
    }
   },
   "cell_type": "code",
   "source": [
    "# gradient_descent_test\n",
    "X,y = load_data(transformed=True)\n",
    "init_w, init_b = initialize_parameter_with_zeros(X)\n",
    "iterations = 10000\n",
    "learning_rate = 0.01\n",
    "\n",
    "w,b = gradient_descent(X ,y, init_w, init_b, learning_rate=learning_rate, num_iterations=iterations)\n",
    "print(\"w,b found by gradient descent:\", w, b)"
   ],
   "id": "46e4e4ccf50a223f",
   "outputs": [
    {
     "name": "stdout",
     "output_type": "stream",
     "text": [
      "Iteration 0: Cost = 6.737190464870007\n",
      "Iteration 1000: Cost = 4.515815084502823\n",
      "Iteration 2000: Cost = 4.4780238053864\n",
      "Iteration 3000: Cost = 4.47699989044271\n",
      "Iteration 4000: Cost = 4.476972148544673\n",
      "Iteration 5000: Cost = 4.476971396907136\n",
      "Iteration 6000: Cost = 4.476971376542307\n",
      "Iteration 7000: Cost = 4.476971375990544\n",
      "Iteration 8000: Cost = 4.476971375975595\n",
      "Iteration 9000: Cost = 4.47697137597519\n",
      "Final Cost at iteration 10000:    4.48\n",
      "w,b found by gradient descent: [[1.19303364]] -3.8957808202682354\n"
     ]
    }
   ],
   "execution_count": 16
  },
  {
   "metadata": {
    "ExecuteTime": {
     "end_time": "2024-08-21T08:09:43.071430Z",
     "start_time": "2024-08-21T08:09:43.064845Z"
    }
   },
   "cell_type": "code",
   "source": [
    "def predict(X, w, b):\n",
    "    \"\"\"\n",
    "    :param X: shape (number_of_features, number_of_examples) \n",
    "    :param w: shape( number_of_features, 1) \n",
    "    :param b: scalar\n",
    "    :return \n",
    "    \"\"\"\n",
    "    \n",
    "    predictions = linear_function(X, w, b)\n",
    "    \n",
    "    return predictions"
   ],
   "id": "63b593bb2c27bdc2",
   "outputs": [],
   "execution_count": 18
  },
  {
   "metadata": {
    "ExecuteTime": {
     "end_time": "2024-08-21T08:13:25.006271Z",
     "start_time": "2024-08-21T08:13:24.760659Z"
    }
   },
   "cell_type": "code",
   "source": [
    "# predict_test\n",
    "X_train, y_train = load_data(transformed=True)\n",
    "\n",
    "init_w, init_b = initialize_parameter_with_zeros(X_train)\n",
    "learning_rate = 0.01\n",
    "num_iterations = 10000\n",
    "\n",
    "w, b = gradient_descent(X_train, y_train, init_w, init_b, learning_rate=learning_rate, num_iterations=iterations)\n",
    "preds = predict(X_train, w, b)\n",
    "print(preds)"
   ],
   "id": "b8872cfd444ba6de",
   "outputs": [
    {
     "name": "stdout",
     "output_type": "stream",
     "text": [
      "Iteration 0: Cost = 6.737190464870007\n",
      "Iteration 1000: Cost = 4.515815084502823\n",
      "Iteration 2000: Cost = 4.4780238053864\n",
      "Iteration 3000: Cost = 4.47699989044271\n",
      "Iteration 4000: Cost = 4.476972148544673\n",
      "Iteration 5000: Cost = 4.476971396907136\n",
      "Iteration 6000: Cost = 4.476971376542307\n",
      "Iteration 7000: Cost = 4.476971375990544\n",
      "Iteration 8000: Cost = 4.476971375975595\n",
      "Iteration 9000: Cost = 4.47697137597519\n",
      "Final Cost at iteration 10000:    4.48\n",
      "[[ 3.39377401  2.69895122  6.26719553  4.45927236  3.09515769  6.10530087\n",
      "   5.02381587  6.33818103  3.84247396  2.13452701  2.91727638 13.00234763\n",
      "   2.94507406  6.13572322  2.83376402  2.52202433  3.6983555   2.22460105\n",
      "   3.77494826  4.53992143  3.48802367 20.28701103  2.65409316  3.65146928\n",
      "   2.74333207 18.70624146 11.40845469  9.17628876 11.8236304  22.59314505\n",
      "   2.37050906  3.96559504  7.13763287  3.13333477  5.90033769  5.56903225\n",
      "   5.76290021  2.79272367 11.41799896  3.6840391   2.55483276  4.3152732\n",
      "  10.07225702  2.9924375   5.43934949  4.56652608  2.15313833  3.02548453\n",
      "  10.06271275  2.71553439  5.09993142  2.43648382  4.96118161  5.17497324\n",
      "   3.6594626   3.69060078  3.58955083  2.83257099  7.21160096  7.38268198\n",
      "   6.63321825  2.2832983  21.49078197 13.88996466 18.72294393  4.71577459\n",
      "   6.00055251  8.3161115   2.66518837 20.37171642  8.19680814  4.8545244\n",
      "   3.26981782  4.72496095  2.10147998  3.91608414  5.09802257  2.1129331\n",
      "   8.36144678  2.19787709  2.9393475   2.29415491  3.68678308  7.75860688\n",
      "   3.87790706  6.26552528  7.05650659  3.26480708  2.69024208  2.14025357\n",
      "   2.91369728  5.21493986  3.10816176  2.43373984  5.99852436 12.08371173\n",
      "   2.59062377]]\n"
     ]
    }
   ],
   "execution_count": 22
  },
  {
   "metadata": {},
   "cell_type": "code",
   "outputs": [],
   "execution_count": null,
   "source": "",
   "id": "abe774bb1911995d"
  }
 ],
 "metadata": {
  "kernelspec": {
   "display_name": "Python 3",
   "language": "python",
   "name": "python3"
  },
  "language_info": {
   "codemirror_mode": {
    "name": "ipython",
    "version": 2
   },
   "file_extension": ".py",
   "mimetype": "text/x-python",
   "name": "python",
   "nbconvert_exporter": "python",
   "pygments_lexer": "ipython2",
   "version": "2.7.6"
  }
 },
 "nbformat": 4,
 "nbformat_minor": 5
}
